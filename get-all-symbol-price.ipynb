{
 "cells": [
  {
   "cell_type": "code",
   "execution_count": 124,
   "metadata": {},
   "outputs": [],
   "source": [
    "from datetime import datetime, timedelta\n",
    "import yfinance as yf   #https://pypi.org/project/yfinance/\n"
   ]
  },
  {
   "cell_type": "code",
   "execution_count": 125,
   "metadata": {},
   "outputs": [],
   "source": [
    "# turn off debug to get data\n",
    "debug = False"
   ]
  },
  {
   "cell_type": "code",
   "execution_count": 126,
   "metadata": {},
   "outputs": [
    {
     "name": "stderr",
     "output_type": "stream",
     "text": [
      "<ipython-input-126-11ba52ca5917>:5: SettingWithCopyWarning: \n",
      "A value is trying to be set on a copy of a slice from a DataFrame.\n",
      "Try using .loc[row_indexer,col_indexer] = value instead\n",
      "\n",
      "See the caveats in the documentation: https://pandas.pydata.org/pandas-docs/stable/user_guide/indexing.html#returning-a-view-versus-a-copy\n",
      "  df['company']=df.apply(lambda x: getCompanyName(x.sponsor_collaborators, x.lead_sponsor, x.collaborators), axis=1)\n",
      "<ipython-input-126-11ba52ca5917>:8: SettingWithCopyWarning: \n",
      "A value is trying to be set on a copy of a slice from a DataFrame.\n",
      "Try using .loc[row_indexer,col_indexer] = value instead\n",
      "\n",
      "See the caveats in the documentation: https://pandas.pydata.org/pandas-docs/stable/user_guide/indexing.html#returning-a-view-versus-a-copy\n",
      "  df['symbol']=df.company.apply(lambda x: findSymbol(x, ticker_all))\n"
     ]
    }
   ],
   "source": [
    "%run merge-data.ipynb"
   ]
  },
  {
   "cell_type": "code",
   "execution_count": 127,
   "metadata": {},
   "outputs": [],
   "source": [
    "# temporary turn on debug\n",
    "debug = True"
   ]
  },
  {
   "cell_type": "code",
   "execution_count": 128,
   "metadata": {},
   "outputs": [
    {
     "name": "stdout",
     "output_type": "stream",
     "text": [
      "source data shape:  (367, 70)\n",
      "total unique symbols: 152\n",
      "symbol list ['PLRX' 'PPD' 'NVS' 'BCRX' 'GILD' 'REGN' 'SNY' 'DGX' 'VNDA' 'ABBV' 'PFE'\n",
      " 'IFRX' 'CANF' 'BLDE' 'INO' 'CAPR' 'TRHC' 'CDNA' 'IMAB' 'LLY' 'EIGR' 'AZN'\n",
      " 'BHVN' 'BMY' 'KPTI' 'TBPH' 'HGEN' 'UNH' 'INCY' 'ALXN' 'BHC' 'CNTG' 'MRKR'\n",
      " 'BLPH' 'LBPS' 'MEDP' 'MESO' 'ATHX' 'IQV' 'BNTX' 'NVAX' 'IPHA' 'INMB'\n",
      " 'VSTM' 'JNJ' 'GSK' 'IMUX' 'AIM' 'ECOR' 'BGNE' 'IBRX' 'VERU' 'PSTI' 'WINT'\n",
      " 'CMRX' 'CTSO' 'EXAS' 'AVIR' 'XAIR' 'KNSA' 'ALVR' 'EDSA' 'HOPE' 'APLS'\n",
      " 'VTGN' 'CTIC' 'CLOV' 'PTNR' 'LIFE' 'KLDO' 'RDHL' 'PHAR' 'SNDX' 'TAK'\n",
      " 'DVA' 'MNOV' 'FGEN' 'PHAS' 'PTCT' 'SRNE' 'ALT' 'DRRX' 'CVAC' 'AMPE'\n",
      " 'ANGN' 'AMRN' 'CRVS' 'VAR' 'BMRA' 'HRTX' 'BPTS' 'GRFS' 'ARCT' 'EVLO'\n",
      " 'HAE' 'RETA' 'ADPT' 'VIR' 'MMM' 'ARPO' 'FULC' 'SNN' 'CLBS' 'GLBL' 'VRNA'\n",
      " 'RDY' 'JAZZ' 'SAGE' 'MREO' 'IONS' 'KMDA' 'OPK' 'GRTX' 'EW' 'ILMN' 'VXRT'\n",
      " 'DFFN' 'HRC' 'RIGL' 'NGM' 'AMGN' 'AEMD' 'CFRX' 'NRBO' 'EQ' 'CLNN' 'HUGE'\n",
      " 'CERT' 'ONCS' 'LGVN' 'NKTR' 'ICLR' 'PRTC' 'ABIO' 'ENLV' 'EBS' 'VALN'\n",
      " 'ENTX' 'TLC' 'GE' 'AUPH' 'LHDX' 'MDT' 'ADMP' 'VBLT' 'VBIV' 'GRTS' 'PRGO'\n",
      " 'HSTO' 'BDX' 'INSM' 'MKD']\n"
     ]
    }
   ],
   "source": [
    "# question related source data overview\n",
    "if (debug):\n",
    "    print('source data shape: ', df.shape)\n",
    "    print('total unique symbols:', df.symbol.nunique())\n",
    "    print('symbol list', df.symbol.unique())"
   ]
  },
  {
   "cell_type": "code",
   "execution_count": 129,
   "metadata": {},
   "outputs": [],
   "source": [
    "# get unique symbol and max time period to download price data\n",
    "symbols = df[['symbol','last_update_posted']].groupby('symbol').agg(\n",
    "    mindate=('last_update_posted','min'),\n",
    "    maxdate=('last_update_posted','max'),\n",
    ")\n",
    "symbols = symbols.reset_index()"
   ]
  },
  {
   "cell_type": "code",
   "execution_count": 133,
   "metadata": {},
   "outputs": [],
   "source": [
    "# functions to download symbol price during a period\n",
    "def daterange(start_date, end_date):\n",
    "    for n in range(int((end_date - start_date).days)):\n",
    "        yield start_date + timedelta(n)\n",
    "        \n",
    "def yfdownload(symbol, startdate, enddate):\n",
    "    try:\n",
    "        df = yf.download(symbol,start=startdate, end=enddate, progress=False, auto_adjust=True)\n",
    "    except: \n",
    "        df = pd.DataFrame()\n",
    "    return df\n",
    "\n",
    "def getSymbolPriceData(symbol, mindate, maxdate):    \n",
    "    startdate = datetime.strptime(mindate, \"%Y-%m-%d\") - timedelta(days=7) # one week before\n",
    "    enddate = datetime.strptime(maxdate, \"%Y-%m-%d\") + timedelta(weeks=4)  # one month after\n",
    "    #print('symbol:', symbol,' startdate:', startdate, ' enddate:', enddate)\n",
    "    \n",
    "    # some company went public after clinical trial, so no price for some dates\n",
    "    for single_date in daterange(startdate, enddate):\n",
    "        #print(single_date.strftime(\"%Y-%m-%d\"))\n",
    "        df = yfdownload(symbol,single_date, enddate)\n",
    "        #print('downloaded data shape:',df.shape)\n",
    "        if (df.shape[0]>0):\n",
    "            # add symbol back to the data frame\n",
    "            df['symbol']=symbol\n",
    "            break\n",
    "    \n",
    "    return df"
   ]
  },
  {
   "cell_type": "code",
   "execution_count": 131,
   "metadata": {},
   "outputs": [
    {
     "name": "stdout",
     "output_type": "stream",
     "text": [
      "2020-02-03\n"
     ]
    }
   ],
   "source": [
    "# getSymbolPriceData testing:\n",
    "if (debug):\n",
    "    print(getSymbolPriceData('ABC','2020-02-10','2020-02-10'))"
   ]
  },
  {
   "cell_type": "code",
   "execution_count": 134,
   "metadata": {},
   "outputs": [],
   "source": [
    "# download all symbol price data and save for late use since we may hit the daily free download limits\n",
    "allprice = pd.DataFrame()\n",
    "for row in symbols.itertuples(name='ticker'):\n",
    "    allprice = allprice.append(getSymbolPriceData(row.symbol, row.mindate, row.maxdate))\n",
    "\n",
    "allprice.to_csv('allprice' + str(datetime.now())[-7:-1] + '.csv')"
   ]
  },
  {
   "cell_type": "code",
   "execution_count": 135,
   "metadata": {},
   "outputs": [],
   "source": [
    "## errors from yf:\n",
    "# - ANGN: Data doesn't exist for startDate = 1598760000, endDate = 1598932800 (2020-07-29  2020-08-31)\n",
    "# - CERT: Data doesn't exist for startDate = 1604552400, endDate = 1607576400 (2020-11-06  2020-12-09)\n",
    "# - GLBL: Data doesn't exist for startDate = 1612328400, endDate = 1615352400 (2021-02-04  2021-03-09)\n",
    "# - LBPS: Data doesn't exist for startDate = 1592971200, endDate = 1595995200 (2020-06-25  2020-07-28)\n",
    "# - LGVN: Data doesn't exist for startDate = 1604898000, endDate = 1607922000 (2020-11-10  2020-12-13)\n",
    "# - VALN: Data doesn't exist for startDate = 1614661200, endDate = 1617681600 (2021-03-03  2021-04-05)\n"
   ]
  },
  {
   "cell_type": "code",
   "execution_count": 136,
   "metadata": {},
   "outputs": [
    {
     "name": "stdout",
     "output_type": "stream",
     "text": [
      "all symbol price data shape: (8835, 7)\n",
      "no price symbols:  {'CERT', 'ANGN', 'LBPS', 'VALN', 'LGVN', 'GLBL'}\n",
      "                 Open       High   Low  Close   Volume  Dividends  \\\n",
      "Date                                                                \n",
      "2021-02-05  17.620001  18.985001  16.5  17.02  1667100          0   \n",
      "\n",
      "            Stock Splits  \n",
      "Date                      \n",
      "2021-02-05             0  \n"
     ]
    }
   ],
   "source": [
    "# find out more about symbols has no price\n",
    "if (debug):\n",
    "    print('all symbol price data shape:', allprice.shape)\n",
    "    tickers = set(df.symbol.unique()) - set(allprice.symbol.unique())\n",
    "    print('no price symbols: ', tickers)\n",
    "    \n",
    "    tickerlist = ''\n",
    "    for ticker in tickers:\n",
    "        tickerlist = tickerlist + ' ' + ticker\n",
    "        #hist = ticker.history(period=\"max\")\n",
    "        #print(hist)\n",
    "    \n",
    "    #tickers = yf.Tickers(\"ANGN CERT GLBL LBPS LGVN VALN\" ) #['BPTS', 'CVAC']\n",
    "    tickers = yf.Tickers(tickerlist.strip()) \n",
    "    \n",
    "    hist=tickers.tickers['ANGN'].history(period=\"max\").head(1)\n",
    "    # hist=tickers.tickers['BPTS'].history(period=\"max\").head(1)\n",
    "    # hist=tickers.tickers['CVAC'].history(period=\"max\").head(1)\n",
    "    # hist=tickers.tickers['LBPS'].history(period=\"max\").head(1)\n",
    "    print(hist)"
   ]
  },
  {
   "cell_type": "code",
   "execution_count": 142,
   "metadata": {},
   "outputs": [
    {
     "data": {
      "text/plain": [
       "index                 int64\n",
       "Date         datetime64[ns]\n",
       "Open                float64\n",
       "High                float64\n",
       "Low                 float64\n",
       "Close               float64\n",
       "Volume              float64\n",
       "symbol               object\n",
       "Adj Close           float64\n",
       "dtype: object"
      ]
     },
     "execution_count": 142,
     "metadata": {},
     "output_type": "execute_result"
    }
   ],
   "source": [
    "allprice = allprice.reset_index()\n",
    "allprice.dtypes"
   ]
  },
  {
   "cell_type": "code",
   "execution_count": 143,
   "metadata": {},
   "outputs": [],
   "source": [
    "allprice.to_csv('allprice' + str(datetime.now())[-7:-1] + '.csv')"
   ]
  },
  {
   "cell_type": "code",
   "execution_count": null,
   "metadata": {},
   "outputs": [],
   "source": []
  }
 ],
 "metadata": {
  "kernelspec": {
   "display_name": "Python 3",
   "language": "python",
   "name": "python3"
  },
  "language_info": {
   "codemirror_mode": {
    "name": "ipython",
    "version": 3
   },
   "file_extension": ".py",
   "mimetype": "text/x-python",
   "name": "python",
   "nbconvert_exporter": "python",
   "pygments_lexer": "ipython3",
   "version": "3.9.0"
  }
 },
 "nbformat": 4,
 "nbformat_minor": 4
}
