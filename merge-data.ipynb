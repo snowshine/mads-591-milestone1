{
 "cells": [
  {
   "cell_type": "code",
   "execution_count": 265,
   "metadata": {},
   "outputs": [],
   "source": [
    "import numpy as np\n",
    "import pandas as pd\n",
    "from datetime import datetime, timedelta\n",
    "import re"
   ]
  },
  {
   "cell_type": "code",
   "execution_count": 266,
   "metadata": {},
   "outputs": [],
   "source": [
    "# turn on debug mode when running by itself\n",
    "if not 'debug' in locals():\n",
    "    debug = True"
   ]
  },
  {
   "cell_type": "code",
   "execution_count": 267,
   "metadata": {},
   "outputs": [],
   "source": [
    "# load primary dataset\n",
    "df_all=pd.read_csv('20210412020005_covid-19.tsv',sep='\\t')\n",
    "\n",
    "# filter clinical trial dataset to industry company \n",
    "# since industry company are the only possible public traded sponsors, rest are institutions\n",
    "df=df_all[df_all[\"funded_bys\"].str.find('Industry')>=0]\n"
   ]
  },
  {
   "cell_type": "code",
   "execution_count": 268,
   "metadata": {},
   "outputs": [],
   "source": [
    "# load secondary dataset\n",
    "# download from https://www.nasdaq.com/market-activity/stocks/screener\n",
    "#ticker_all=pd.read_csv('nasdaq_screener_healthcare.csv') # healthcare sector only\n",
    "ticker_all=pd.read_csv('nasdaq_screener_all.csv')\n",
    "ticker_all=ticker_all[['Symbol','Name','Sector']][ticker_all.Sector != 'Technology']\n",
    "ticker_all['Name']=ticker_all['Name'].str.lower()"
   ]
  },
  {
   "cell_type": "code",
   "execution_count": 269,
   "metadata": {},
   "outputs": [
    {
     "name": "stdout",
     "output_type": "stream",
     "text": [
      "origin clinical data shape:  (5318, 68)\n",
      "after filter to industry company data shape:  (1029, 68)\n",
      "ticker data shape:  (7043, 3)\n"
     ]
    }
   ],
   "source": [
    "if (debug):\n",
    "    print(\"origin clinical data shape: \", df_all.shape)\n",
    "    print(\"after filter to industry company data shape: \", df.shape)\n",
    "    print(\"ticker data shape: \", ticker_all.shape)"
   ]
  },
  {
   "cell_type": "code",
   "execution_count": 270,
   "metadata": {},
   "outputs": [],
   "source": [
    "def getCompanyName(sponsor_collaborators, lead, collaborators):\n",
    "    \n",
    "    sponsors = sponsor_collaborators.split('|')\n",
    "    company = \"\"\n",
    "    for sponsor in sponsors: # can be more than 1 industry companies\n",
    "        if (lead.find(sponsor+\"[Industry]\")>=0):\n",
    "            company = company + \"|\" + sponsor\n",
    "        elif (collaborators != None) & (collaborators.find(sponsor+\"[Industry]\")>=0): #collaborators can be NaN\n",
    "            company = company + \"|\" + sponsor\n",
    "    \n",
    "    company = company.replace('Sanofi Pasteur, a Sanofi Company', 'Sanofi').replace('Aevi Genomic Medicine a Cerecor', 'Cerecor') \\\n",
    "                    .replace('Janssen Vaccines','Johnson & Johnson').replace('Janssen Research','Johnson & Johnson') \\\n",
    "                    .replace('Janssen Pharmaceutica','Johnson & Johnson').replace('Janssen Pharmaceutical','Johnson & Johnson') \\\n",
    "                    .replace('Amarin Pharma', 'Amarin').replace('Aytu BioScience','aytu biopharma').replace('Technologies B.V.','') \\\n",
    "                    .replace('Rostock','').replace('Bellerophon Pulse Technologies','bellerophon therapeutics') \\\n",
    "                    .replace(', Inc.','').replace(', Inc','').replace('. Inc.','').replace('Inc.,','').replace('Inc.','') \\\n",
    "                    .replace('Incorporated','').replace('Corporation','').replace('Corp','').replace('Company','').replace('company','')    \\\n",
    "                    .replace(\"Co., Ltd.\",\"\").replace(\"Co.,\", \"\").replace(\"Co.\", \"\").replace(\", S.A.\", \"\").replace('Partners','') \\\n",
    "                    .replace('Pty Ltd','').replace(\", Ltd.\",\"\").replace(\"Ltd.\", \"\").replace(', LLC','').replace('LLC','') \\\n",
    "                    .replace('Austria GmbH','').replace('RNA Pharmaceuticals GmbH','').replace('GmbH','').replace(\" AG\", \"\") \\\n",
    "                    .replace('North America','').replace('Americas','').replace('International','').replace('International Sàrl','') \\\n",
    "                    .replace('Biopharmaceuticals','').replace('Biopharma','').replace('BioScience','').replace('biotech','').replace('bio','') \\\n",
    "                    .replace('Therapeutics','').replace('healthcare','').replace('HealthCare','').replace(' Health Inc','').replace(' Health','') \\\n",
    "                    .replace('scientific','').replace('Clinical Research','').replace('Nanomedicine','').replace('Oncology','').replace('Pharma  ','') \\\n",
    "                    .replace(\",\", \"\")\n",
    "        \n",
    "    return company[1:]"
   ]
  },
  {
   "cell_type": "code",
   "execution_count": 272,
   "metadata": {},
   "outputs": [
    {
     "name": "stdout",
     "output_type": "stream",
     "text": [
      "Han Xu M.D. Ph.D. Sponsor-Investigator IRB Chair|PPD\n"
     ]
    }
   ],
   "source": [
    "# getCompanyName testing\n",
    "if (debug):\n",
    "    s1='Han Xu, M.D., Ph.D., Sponsor-Investigator, IRB Chair|PPD'\n",
    "    s2='Han Xu, M.D., Ph.D., Sponsor-Investigator, IRB Chair[Industry]'\n",
    "    s3='PPD[Industry]'\n",
    "    # s1='Biohaven Pharmaceuticals, Inc.'\n",
    "    # s2='Biohaven Pharmaceuticals, Inc.[Industry]'\n",
    "    # s3=''\n",
    "    print(getCompanyName(s1, s2, s3))"
   ]
  },
  {
   "cell_type": "code",
   "execution_count": 273,
   "metadata": {},
   "outputs": [],
   "source": [
    "def findSymbol(companies, tickers):\n",
    "    \n",
    "    result=[]\n",
    "    for company in companies.split('|'): #can be more than 1\n",
    "        company = company.lower()\n",
    "        tmp = tickers[['Symbol']][tickers.Name.str.find(company)==0]\n",
    "        if len(tmp.Symbol) >= 1: # find the whole name      \n",
    "            result.append(tmp.Symbol.values[0])\n",
    "        else:  # didn't find with the whole name\n",
    "            words = company.split(' ')\n",
    "            if len(words) > 2: # if company name have more than 2 words, use 2 words\n",
    "                name = words[0] + ' ' + words[1]\n",
    "                tmp = tickers[['Symbol']][tickers.Name.str.find(name)==0]\n",
    "                if len(tmp.Symbol) >= 1:\n",
    "                    result.append(tmp.Symbol.values[0])\n",
    "            elif (len(words) == 2):\n",
    "                if (words[1]=='pharmaceuticals'): # if company name has 2 words like [**] pharmaceutical\n",
    "                    name = words[0] + ' pharmaceutical' # remove s from Pharmaceuticals for BHVN\n",
    "                    tmp = tickers[['Symbol']][tickers.Name.str.find(name)==0]\n",
    "                    if len(tmp.Symbol) >= 1:\n",
    "                        result.append(tmp.Symbol.values[0])\n",
    "                    else:  #if 2 words name not found, try to drop pharmaceutical\n",
    "                        name = words[0]  # use just the first word\n",
    "                        tmp = tickers[['Symbol']][tickers.Name.str.find(name)==0]\n",
    "                        if len(tmp.Symbol) >= 1:\n",
    "                            result.append(tmp.Symbol.values[0])\n",
    "    \n",
    "    return result"
   ]
  },
  {
   "cell_type": "code",
   "execution_count": 274,
   "metadata": {},
   "outputs": [
    {
     "name": "stdout",
     "output_type": "stream",
     "text": [
      "['ADMP', 'CVAC']\n"
     ]
    }
   ],
   "source": [
    "# findSymbol testing\n",
    "if (debug):\n",
    "    s='IRB Chair|Adamis Pharmaceutical|CureVac'\n",
    "    print(findSymbol(s, ticker_all))\n",
    "    "
   ]
  },
  {
   "cell_type": "code",
   "execution_count": 275,
   "metadata": {},
   "outputs": [
    {
     "name": "stderr",
     "output_type": "stream",
     "text": [
      "<ipython-input-275-11ba52ca5917>:5: SettingWithCopyWarning: \n",
      "A value is trying to be set on a copy of a slice from a DataFrame.\n",
      "Try using .loc[row_indexer,col_indexer] = value instead\n",
      "\n",
      "See the caveats in the documentation: https://pandas.pydata.org/pandas-docs/stable/user_guide/indexing.html#returning-a-view-versus-a-copy\n",
      "  df['company']=df.apply(lambda x: getCompanyName(x.sponsor_collaborators, x.lead_sponsor, x.collaborators), axis=1)\n",
      "<ipython-input-275-11ba52ca5917>:8: SettingWithCopyWarning: \n",
      "A value is trying to be set on a copy of a slice from a DataFrame.\n",
      "Try using .loc[row_indexer,col_indexer] = value instead\n",
      "\n",
      "See the caveats in the documentation: https://pandas.pydata.org/pandas-docs/stable/user_guide/indexing.html#returning-a-view-versus-a-copy\n",
      "  df['symbol']=df.company.apply(lambda x: findSymbol(x, ticker_all))\n"
     ]
    }
   ],
   "source": [
    "#\n",
    "# merge 2 dataset based on company name\n",
    "#\n",
    "# industry company name can be either in lead_sponsor or collaborators\n",
    "df['company']=df.apply(lambda x: getCompanyName(x.sponsor_collaborators, x.lead_sponsor, x.collaborators), axis=1)\n",
    "\n",
    "# find stock symbol based on company name\n",
    "df['symbol']=df.company.apply(lambda x: findSymbol(x, ticker_all))\n",
    "\n",
    "# since trials can involve multiple public companies\n",
    "df=df.explode('symbol')\n"
   ]
  },
  {
   "cell_type": "code",
   "execution_count": 276,
   "metadata": {},
   "outputs": [
    {
     "name": "stdout",
     "output_type": "stream",
     "text": [
      "data shape after merge:  (1056, 70)\n",
      "no company name data shape: (0, 70)\n",
      "(0, 4)\n",
      "symbol not found data shape: (689, 70)\n",
      "           nct_id                                       lead_sponsor  \\\n",
      "0     NCT00571389                          BioCytics, Inc.[Industry]   \n",
      "12    NCT03331445                             Chris Miller[Industry]   \n",
      "13    NCT03348670  Han Xu, M.D., Ph.D., Sponsor-Investigator, IRB...   \n",
      "15    NCT03452774                        Massive Bio, Inc.[Industry]   \n",
      "20    NCT03808922                    Ansun Biopharma, Inc.[Industry]   \n",
      "...           ...                                                ...   \n",
      "5286  NCT04834934                          IRCCS San Raffaele[Other]   \n",
      "5289  NCT04836052                Hamad Medical Corporation[Industry]   \n",
      "5296  NCT04836780       Hospital Universitario Infanta Leonor[Other]   \n",
      "5301  NCT04838080                              Kocak Farma[Industry]   \n",
      "5309  NCT04839042     Tetherex Pharmaceuticals Corporation[Industry]   \n",
      "\n",
      "                                               company symbol  \n",
      "0                                            BioCytics    NaN  \n",
      "12                           Chris Miller|Mallinckrodt    NaN  \n",
      "13    Han Xu M.D. Ph.D. Sponsor-Investigator IRB Chair    NaN  \n",
      "15                                         Massive Bio    NaN  \n",
      "20                                              Ansun     NaN  \n",
      "...                                                ...    ...  \n",
      "5286                                        Microsoft     NaN  \n",
      "5289                                    Hamad Medical     NaN  \n",
      "5296                                  Kern Pharma S.L.    NaN  \n",
      "5301                                       Kocak Farma    NaN  \n",
      "5309                         Tetherex Pharmaceuticals     NaN  \n",
      "\n",
      "[689 rows x 4 columns]\n"
     ]
    }
   ],
   "source": [
    "# initial merge result check\n",
    "if (debug):\n",
    "    print('data shape after merge: ', df.shape)\n",
    "    # check empty company names\n",
    "    print('no company name data shape:',df[df['company']==''].shape)\n",
    "    print(df[['nct_id', 'lead_sponsor','collaborators', 'company']][df['company']==''].shape)\n",
    "    \n",
    "    # check the list of companies have no symbol\n",
    "    print('symbol not found data shape:',df[pd.isna(df.symbol)].shape)\n",
    "    print(df[['nct_id', 'lead_sponsor','company', 'symbol']][pd.isna(df.symbol)])\n"
   ]
  },
  {
   "cell_type": "code",
   "execution_count": 289,
   "metadata": {},
   "outputs": [
    {
     "name": "stdout",
     "output_type": "stream",
     "text": [
      "           nct_id      funded_bys  \\\n",
      "2516  NCT04460651  Other|Industry   \n",
      "\n",
      "                                  sponsor_collaborators  \\\n",
      "2516  Estudios Clínicos Latino América|Amarin Pharma...   \n",
      "\n",
      "                                 lead_sponsor                 collaborators  \\\n",
      "2516  Estudios Clínicos Latino América[Other]  Amarin Pharma Inc.[Industry]   \n",
      "\n",
      "      company symbol  \n",
      "2516  Amarin    AMRN  \n",
      "          nct_id funded_bys           sponsor_collaborators  \\\n",
      "580  NCT04346615   Industry  Biohaven Pharmaceuticals, Inc.   \n",
      "\n",
      "                                 lead_sponsor collaborators  \\\n",
      "580  Biohaven Pharmaceuticals, Inc.[Industry]           NaN   \n",
      "\n",
      "                      company symbol  \n",
      "580  Biohaven Pharmaceuticals   BHVN  \n"
     ]
    }
   ],
   "source": [
    "# spot check companies have no symbol\n",
    "if (debug):\n",
    "    #print(df[['nct_id','sponsor_collaborators', 'lead_sponsor','collaborators','company', 'symbol']][df.company.str.find('Sanofi')==0])    \n",
    "    print(df[['nct_id', 'funded_bys', 'sponsor_collaborators', 'lead_sponsor','collaborators', 'company','symbol']][df.company.str.find('Amarin')>=0])\n",
    "    print(df[['nct_id', 'funded_bys', 'sponsor_collaborators', 'lead_sponsor','collaborators', 'company','symbol']][df.nct_id=='NCT04346615'])\n"
   ]
  },
  {
   "cell_type": "code",
   "execution_count": 290,
   "metadata": {},
   "outputs": [
    {
     "name": "stdout",
     "output_type": "stream",
     "text": [
      "COMPANY( Han Xu M.D. Ph.D. Sponsor-Investigator IRB Chair ) WITH NAME PART( han ) MATCH TICKER( HAFC) NAMED- hanmi financial corporation common stock\n",
      "COMPANY( Azidus Brasil ) WITH NAME PART( brasil ) MATCH TICKER( LND) NAMED- brasilagro brazilian agric real estate co sponsored adr (brazil)\n",
      "COMPANY( Black Tie Medical ) WITH NAME PART( black ) MATCH TICKER( BB) NAMED- blackberry limited common stock\n",
      "COMPANY( Target PharmaSolutions ) WITH NAME PART( target ) MATCH TICKER( TGT) NAMED- target corporation common stock\n",
      "COMPANY( Effice Servicios Para la Investigacion S.L. ) WITH NAME PART( para ) MATCH TICKER( PGRE) NAMED- paramount group inc. common stock\n",
      "COMPANY( Hope Biosciences ) WITH NAME PART( hope ) MATCH TICKER( HOPE) NAMED- hope bancorp inc. common stock\n",
      "COMPANY( Hilton Pharma ) WITH NAME PART( hilton ) MATCH TICKER( HGV) NAMED- hilton grand vacations inc. common stock \n",
      "COMPANY( Laboratorio Elea Phoenix S.A. ) WITH NAME PART( phoenix ) MATCH TICKER( FENG) NAMED- phoenix new media limited american depositary shares each representing 8 class a ordinary shares.\n",
      "COMPANY( Clinical Nutrition Research Center Illinois Institute of Technology ) WITH NAME PART( illinois ) MATCH TICKER( ITW) NAMED- illinois tool works inc. common stock\n",
      "COMPANY( Applied Biology ) WITH NAME PART( applied ) MATCH TICKER( AGTC) NAMED- applied genetic technologies corporation common stock\n",
      "COMPANY( Arch Biopartners  ) WITH NAME PART( arch ) MATCH TICKER( ACGL) NAMED- arch capital group ltd. common stock\n",
      "COMPANY( Richmond Pharmacology Limited ) WITH NAME PART( richmond ) MATCH TICKER( RMBI) NAMED- richmond mutual bancorporation inc. common stock\n",
      "COMPANY( Aevi Genomic Medicine a Cerecor  ) WITH NAME PART( cerecor ) MATCH TICKER( CERC) NAMED- cerecor inc. common stock\n",
      "COMPANY( Clear Creek Bio ) WITH NAME PART( clear ) MATCH TICKER( CEM) NAMED- clearbridge mlp and midstream fund inc. common stock\n",
      "COMPANY( Merck Sharp & Dohme . ) WITH NAME PART( merck ) MATCH TICKER( MRK) NAMED- merck & company inc. common stock (new)\n",
      "COMPANY( Merck Sharp & Dohme . ) WITH NAME PART( sharp ) MATCH TICKER( SMED) NAMED- sharps compliance corp. common stock\n",
      "COMPANY( Instituto Grifols ) WITH NAME PART( grifols ) MATCH TICKER( GRFS) NAMED- grifols s.a. american depositary shares\n",
      "COMPANY( First Wave Bio ) WITH NAME PART( wave ) MATCH TICKER( WVE) NAMED- wave life sciences ltd. ordinary shares\n",
      "COMPANY( MELISA Institute Genomics & Proteomics Research SpA ) WITH NAME PART( spa ) MATCH TICKER( LOV) NAMED- spark networks inc. american depositary shares (each representing one-tenth of an ordinary share)\n",
      "COMPANY( Merck KGaA Darmstadt Germany|EMD Serono Research & Development Institute ) WITH NAME PART( merck ) MATCH TICKER( MRK) NAMED- merck & company inc. common stock (new)\n",
      "COMPANY( Nguyen Thu Ngan Trinh ) WITH NAME PART( thu ) MATCH TICKER( TBCP) NAMED- thunder bridge capital partners iii inc. class a common stock\n",
      "COMPANY( AO GENERIUM ) WITH NAME PART( ao ) MATCH TICKER( AON) NAMED- aon plc class a ordinary shares (ireland)\n",
      "COMPANY( Athena Robinson ) WITH NAME PART( athena ) MATCH TICKER( ATHN) NAMED- athena technology acquisition corp. class a common stock\n",
      "COMPANY( SAb Biotherapeutics ) WITH NAME PART( sab ) MATCH TICKER( SBR) NAMED- sabine royalty trust common stock\n",
      "COMPANY( Spartan Bioscience  ) WITH NAME PART( spartan ) MATCH TICKER( SPAQ) NAMED- spartan acquisition corp. iii class a common stock\n",
      "COMPANY( Kentucky BioProcessing ) WITH NAME PART( kentucky ) MATCH TICKER( KFFB) NAMED- kentucky first federal bancorp common stock\n",
      "COMPANY( Shin Poong Pharmaceutical   ) WITH NAME PART( shin ) MATCH TICKER( SHG) NAMED- shinhan financial group co ltd american depositary shares\n",
      "COMPANY( Sound Pharmaceuticalsorporated ) WITH NAME PART( sound ) MATCH TICKER( SFBC) NAMED- sound financial bancorp inc. common stock\n",
      "COMPANY( Medigen Vaccine Biologics . ) WITH NAME PART( vaccine ) MATCH TICKER( VCNX) NAMED- vaccinex inc. common stock\n",
      "COMPANY( Centro de Pesquisa em Biotecnologia Ltda ) WITH NAME PART( em ) MATCH TICKER( AKO/A) NAMED- embotelladora andina s.a.\n",
      "COMPANY( Advanced Cooling Therapy d/b/a Attune Medical ) WITH NAME PART( advanced ) MATCH TICKER( ADES) NAMED- advanced emissions solutions inc. common stock\n",
      "COMPANY( PT Bio Farma ) WITH NAME PART( pt ) MATCH TICKER( PTCT) NAMED- ptc therapeutics inc. common stock\n",
      "COMPANY( Composite Interceptive Med Science ) WITH NAME PART( med ) MATCH TICKER( MAX) NAMED- mediaalpha inc. class a common stock\n",
      "COMPANY( Golden Biotechnology  ) WITH NAME PART( golden ) MATCH TICKER( AUMN) NAMED- golden minerals company common stock\n",
      "COMPANY( Colgate Palmolive ) WITH NAME PART( colgate ) MATCH TICKER( CL) NAMED- colgate-palmolive company common stock\n",
      "COMPANY( Namida Lab ) WITH NAME PART( lab ) MATCH TICKER( LH) NAMED- laboratory corporation of america holdings common stock\n",
      "COMPANY( United Biomedical  Asia|COVAXX ) WITH NAME PART( united ) MATCH TICKER( UAL) NAMED- united airlines holdings inc. common stock\n",
      "COMPANY( Amson Vaccine and Pharma (Pvt) Limited ) WITH NAME PART( vaccine ) MATCH TICKER( VCNX) NAMED- vaccinex inc. common stock\n",
      "COMPANY( Green Cross  ) WITH NAME PART( green ) MATCH TICKER( GBNH) NAMED- greenbrook tms inc. common shares\n",
      "COMPANY( Green Cross  ) WITH NAME PART( cross ) MATCH TICKER( CAPL) NAMED- crossamerica partners lp common units representing limited partner interests\n",
      "COMPANY( Level 42 AI ) WITH NAME PART( level ) MATCH TICKER( LEVL) NAMED- level one bancorp inc. common stock\n",
      "COMPANY( B. Braun Melsungen ) WITH NAME PART( b. ) MATCH TICKER( BRIVU) NAMED- b. riley principal 250 merger corp. units\n",
      "COMPANY( Laboratorio Elea Phoenix S.A.|China National Biotec Group  Limited ) WITH NAME PART( phoenix ) MATCH TICKER( FENG) NAMED- phoenix new media limited american depositary shares each representing 8 class a ordinary shares.\n",
      "COMPANY( Epitech Group SpA ) WITH NAME PART( spa ) MATCH TICKER( LOV) NAMED- spark networks inc. american depositary shares (each representing one-tenth of an ordinary share)\n",
      "COMPANY( aytu pharma ) WITH NAME PART( aytu ) MATCH TICKER( AYTU) NAMED- aytu biopharma inc.  common stock\n",
      "COMPANY( Thomas Advanced Medical  ) WITH NAME PART( advanced ) MATCH TICKER( ADES) NAMED- advanced emissions solutions inc. common stock\n",
      "COMPANY( UNION therapeutics ) WITH NAME PART( union ) MATCH TICKER( LATN) NAMED- union acquisition corp. ii ordinary shares\n",
      "COMPANY( UNION therapeutics ) WITH NAME PART( therapeutics ) MATCH TICKER( RACA) NAMED- therapeutics acquisition corp. class a common stock\n",
      "COMPANY( Pharma Nord ) WITH NAME PART( nord ) MATCH TICKER( JWN) NAMED- nordstrom inc. common stock\n",
      "COMPANY( Terra Biological  ) WITH NAME PART( terra ) MATCH TICKER( TFSA) NAMED- terra income fund vi 7.00% notes due 2026\n",
      "COMPANY( The Herb ) WITH NAME PART( herb ) MATCH TICKER( HLF) NAMED- herbalife nutrition ltd. common stock\n",
      "COMPANY( Grifols Biologicals ) WITH NAME PART( grifols ) MATCH TICKER( GRFS) NAMED- grifols s.a. american depositary shares\n",
      "COMPANY( Adaptive Phage  ) WITH NAME PART( adaptive ) MATCH TICKER( ADPT) NAMED- adaptive biotechnologies corporation common stock\n",
      "COMPANY( Takeda Pharmaceuticals  ) WITH NAME PART( takeda ) MATCH TICKER( TAK) NAMED- takeda pharmaceutical company limited american depositary shares (each representing 1/2 of a share of common stock)\n",
      "COMPANY( Senti Tech Ltd ) WITH NAME PART( tech ) MATCH TICKER( FTI) NAMED- technipfmc plc ordinary share\n",
      "COMPANY( Genome British Columbia ) WITH NAME PART( columbia ) MATCH TICKER( CLBK) NAMED- columbia financial inc. common stock\n",
      "COMPANY( Cambridge Cognition Ltd|Evidation ) WITH NAME PART( cambridge ) MATCH TICKER( CATC) NAMED- cambridge bancorp common stock\n",
      "COMPANY( SK Bioscience  ) WITH NAME PART( sk ) MATCH TICKER( EDTK) NAMED- skillful craftsman education technology limited ordinary share\n",
      "COMPANY( Lumos Diagnostics|Rapid Pathogen Screening ) WITH NAME PART( lumos ) MATCH TICKER( LUMO) NAMED- lumos pharma inc. common stock\n",
      "COMPANY( Frontier Biotechnologies  ) WITH NAME PART( frontier ) MATCH TICKER( FRON) NAMED- frontier acquisition corp. class a ordinary shares\n",
      "COMPANY( Swedish Herbal Institute AB ) WITH NAME PART( herbal ) MATCH TICKER( HLF) NAMED- herbalife nutrition ltd. common stock\n",
      "COMPANY( Sky Medical Supplies & Equipments ) WITH NAME PART( sky ) MATCH TICKER( SKY) NAMED- skyline champion corporation common stock\n",
      "COMPANY( Procter and Gamble ) WITH NAME PART( procter ) MATCH TICKER( PG) NAMED- procter & gamble company (the) common stock\n",
      "COMPANY( TC Biopharm ) WITH NAME PART( tc ) MATCH TICKER( CGBD) NAMED- tcg bdc inc. common stock\n",
      "COMPANY( Dong-A ST  ) WITH NAME PART( st ) MATCH TICKER( BANX) NAMED- stonecastle financial corp common stock\n",
      "COMPANY( Kern Pharma S.L. ) WITH NAME PART( kern ) MATCH TICKER( KRNL) NAMED- kernel group holdings inc. class a ordinary shares\n"
     ]
    }
   ],
   "source": [
    "# double check: for company didn't find symbol, try again if any part of the name matched a public company name\n",
    "if (debug):\n",
    "    cnlist = df['company'][pd.isna(df.symbol)].unique().tolist()\n",
    "    exceptwordlist = ['a','ai','ab','d/b/a','co','de','et','e','s','sl','inc','sa', 'sas','ve','bio','la','lp','and','the','first','of', 'group', \\\n",
    "                  'm.d.','md','dr.','research','medical','life','world', 'human','tree','plant','nature','stock','therapeutic',\\\n",
    "                  'health','science','scientific','partner','center','stem','cell','biotech','biotec', \\\n",
    "                  'global','national','europe','british','canada','us','usa','india','pacific','federal','east','middle']\n",
    "    for c in cnlist:    \n",
    "        words = c.split(' ')\n",
    "        for aword in words:\n",
    "            aword = aword.lower()\n",
    "            if (len(aword)>0) & (aword not in exceptwordlist):\n",
    "                tmp = ticker_all[['Symbol', 'Name']][ticker_all.Name.str.find(aword)==0]\n",
    "                if len(tmp.Symbol) >= 1:\n",
    "                    print('COMPANY(', c, ') WITH NAME PART(', aword, ') MATCH TICKER(', tmp.Symbol.values[0] + ') NAMED-', tmp.Name.values[0])\n"
   ]
  },
  {
   "cell_type": "code",
   "execution_count": 291,
   "metadata": {},
   "outputs": [
    {
     "name": "stdout",
     "output_type": "stream",
     "text": [
      "total unique symbol: 152 [nan 'PLRX' 'PPD' 'NVS' 'BCRX' 'GILD' 'REGN' 'SNY' 'DGX' 'VNDA' 'ABBV'\n",
      " 'PFE' 'IFRX' 'CANF' 'BLDE' 'INO' 'CAPR' 'TRHC' 'CDNA' 'IMAB' 'LLY' 'EIGR'\n",
      " 'AZN' 'BHVN' 'BMY' 'KPTI' 'TBPH' 'HGEN' 'UNH' 'INCY' 'ALXN' 'BHC' 'CNTG'\n",
      " 'MRKR' 'BLPH' 'LBPS' 'MEDP' 'MESO' 'ATHX' 'IQV' 'BNTX' 'NVAX' 'IPHA'\n",
      " 'INMB' 'VSTM' 'JNJ' 'GSK' 'IMUX' 'AIM' 'ECOR' 'BGNE' 'IBRX' 'VERU' 'PSTI'\n",
      " 'WINT' 'CMRX' 'CTSO' 'EXAS' 'AVIR' 'XAIR' 'KNSA' 'ALVR' 'EDSA' 'HOPE'\n",
      " 'APLS' 'VTGN' 'CTIC' 'CLOV' 'PTNR' 'LIFE' 'KLDO' 'RDHL' 'PHAR' 'SNDX'\n",
      " 'TAK' 'DVA' 'MNOV' 'FGEN' 'PHAS' 'PTCT' 'SRNE' 'ALT' 'DRRX' 'CVAC' 'AMPE'\n",
      " 'ANGN' 'AMRN' 'CRVS' 'VAR' 'BMRA' 'HRTX' 'BPTS' 'GRFS' 'ARCT' 'EVLO'\n",
      " 'HAE' 'RETA' 'ADPT' 'VIR' 'MMM' 'ARPO' 'FULC' 'SNN' 'CLBS' 'GLBL' 'VRNA'\n",
      " 'RDY' 'JAZZ' 'SAGE' 'MREO' 'IONS' 'KMDA' 'OPK' 'GRTX' 'EW' 'ILMN' 'VXRT'\n",
      " 'DFFN' 'HRC' 'RIGL' 'NGM' 'AMGN' 'AEMD' 'CFRX' 'NRBO' 'EQ' 'CLNN' 'HUGE'\n",
      " 'CERT' 'ONCS' 'LGVN' 'NKTR' 'ICLR' 'PRTC' 'ABIO' 'ENLV' 'EBS' 'VALN'\n",
      " 'ENTX' 'TLC' 'GE' 'AUPH' 'LHDX' 'MDT' 'ADMP' 'VBLT' 'VBIV' 'GRTS' 'PRGO'\n",
      " 'HSTO' 'BDX' 'INSM' 'MKD']\n",
      "x symbol#: 153 w symbol#: 135\n",
      "x missing: set()\n",
      "w missing: {nan, 'INSM', 'CNTG', 'CERT', 'HOPE', 'ENTX', 'CLOV', 'IQV', 'GRFS', 'GE', 'ARPO', 'PHAR', 'VALN', 'IFRX', 'MKD', 'PTNR', 'BLDE', 'GLBL'}\n"
     ]
    }
   ],
   "source": [
    "# compare our symbol lists\n",
    "if (debug):\n",
    "    print('total unique symbol:', df['symbol'].nunique(), df['symbol'].unique())\n",
    "    xlist=df['symbol'].unique()\n",
    "    #wlist=['PPD', 'SNY', 'CDNA', 'BLPH', 'PFE', 'GSK', 'BGNE', 'CMRX', 'FGEN', 'TAK', 'BMRA', 'AZN', 'VXRT', 'HRC', 'NVAX', 'AMGN', 'CFRX', 'EQ', 'ABBV', 'PRTC', 'HSTO', 'GILD', 'REGN', 'VNDA', 'LLY', 'BHVN', 'KPTI', 'TBPH', 'HGEN', 'ALXN', 'INCY', 'BHC', 'MRKR', 'LBPS', 'ATHX', 'BNTX', 'IBRX', 'VERU', 'WINT', 'EXAS', 'AVIR', 'XAIR', 'EDSA', 'APLS', 'VTGN', 'CTIC', 'LIFE', 'KLDO', 'SNDX', 'PHAS', 'PTCT', 'SRNE', 'ALT', 'KNSA', 'AMPE', 'CRVS', 'HRTX', 'BMY', 'ARCT', 'EVLO', 'ADPT', 'FULC', 'CLBS', 'VRNA', 'SAGE', 'VIR', 'KMDA', 'OPK', 'GRTX', 'PLRX', 'DFFN', 'NGM', 'AEMD', 'NRBO', 'HUGE', 'RIGL', 'INO', 'NKTR', 'ICLR', 'ENLV', 'TLC', 'LHDX', 'ADMP', 'VBLT', 'VBIV', 'BDX', 'RDY', 'JNJ']\n",
    "    #wlist=['PPD', 'SNY', 'CDNA', 'BLPH', 'PFE', 'GSK', 'BGNE', 'CMRX', 'MNOV', 'FGEN', 'DRRX', 'TAK', 'BMRA', 'AZN', 'VXRT', 'HRC', 'NVAX', 'AMGN', 'CFRX', 'EQ', 'ABBV', 'PRTC', 'HSTO', 'GILD', 'REGN', 'VNDA', 'LLY', 'BHVN', 'KPTI', 'TBPH', 'HGEN', 'ALXN', 'INCY', 'BHC', 'MRKR', 'LBPS', 'ATHX', 'BNTX', 'INMB', 'IBRX', 'VERU', 'WINT', 'EXAS', 'AVIR', 'XAIR', 'EDSA', 'APLS', 'VTGN', 'CTIC', 'LIFE', 'KLDO', 'RDHL', 'SNDX', 'PHAS', 'PTCT', 'SRNE', 'ALT', 'KNSA', 'AMPE', 'CRVS', 'HRTX', 'BMY', 'ARCT', 'EVLO', 'ADPT', 'FULC', 'CLBS', 'VRNA', 'SAGE', 'VIR', 'KMDA', 'OPK', 'GRTX', 'PLRX', 'DFFN', 'NGM', 'AEMD', 'NRBO', 'HUGE', 'RIGL', 'INO', 'NKTR', 'ICLR', 'ENLV', 'TLC', 'LHDX', 'ADMP', 'VBLT', 'VBIV', 'BDX', 'RDY', 'JNJ']\n",
    "    wlist = ['PPD', 'NVS', 'BCRX', 'GILD', 'REGN', 'SNY', 'DGX', 'VNDA', 'ABBV', 'PFE', 'CANF', 'INO', 'TRHC', 'CDNA', 'LLY', 'EIGR', 'AZN', 'BHVN', 'BMY', 'TBPH', 'HGEN', 'UNH', 'INCY', 'ALXN', 'MRKR', 'BLPH', 'LBPS', 'MEDP', 'ATHX', 'BNTX', 'NVAX', 'IPHA', 'INMB', 'MESO', 'VSTM', 'GSK', 'IMUX', 'AIM', 'ECOR', 'BGNE', 'IBRX', 'VERU', 'PSTI', 'WINT', 'CMRX', 'CTSO', 'EXAS', 'KNSA', 'ALVR', 'APLS', 'VTGN', 'CTIC', 'LIFE', 'KLDO', 'RDHL', 'SNDX', 'TAK', 'MNOV', 'FGEN', 'PHAS', 'PTCT', 'SRNE', 'ALT', 'DRRX', 'CVAC', 'AMPE', 'ANGN', 'CRVS', 'BMRA', 'BPTS', 'ARCT', 'HAE', 'RETA', 'ADPT', 'VIR', 'MMM', 'FULC', 'SNN', 'CLBS', 'VRNA', 'RDY', 'JAZZ', 'SAGE', 'MREO', 'IONS', 'KMDA', 'OPK', 'EW', 'ILMN', 'VXRT', 'DFFN', 'HRC', 'RIGL', 'NGM', 'AMGN', 'CFRX', 'NRBO', 'EQ', 'ONCS', 'NKTR', 'ICLR', 'ABIO', 'ENLV', 'EBS', 'TLC', 'LHDX', 'MDT', 'ADMP', 'VBLT', 'PRGO', 'BDX', 'AEMD', 'AMRN', 'AUPH', 'AVIR', 'BHC', 'CAPR', 'CLNN', 'DVA', 'EDSA', 'EVLO', 'GRTS', 'GRTX', 'HRTX', 'HSTO', 'HUGE', 'IMAB', 'JNJ', 'KPTI', 'LGVN', 'PLRX', 'PRTC', 'VAR', 'VBIV', 'XAIR']\n",
    "    print('x symbol#:',len(xlist), 'w symbol#:', len(wlist))\n",
    "    print('x missing:', set(wlist)-set(xlist))\n",
    "    print('w missing:', set(xlist)-set(wlist))"
   ]
  },
  {
   "cell_type": "code",
   "execution_count": 292,
   "metadata": {},
   "outputs": [],
   "source": [
    "# check missing symbols\n",
    "if (debug):\n",
    "    troublesymbols=set(wlist)-set(xlist)\n",
    "    for ticker in list(troublesymbols)[1:]:\n",
    "        print(ticker_all[ticker_all.Symbol==ticker])\n",
    "        #ToDo: find company name from the symbol\n",
    "        print(df[['lead_sponsor','collaborators', 'company','symbol']][df.company.str.find('Sanofi')==0])"
   ]
  },
  {
   "cell_type": "code",
   "execution_count": 293,
   "metadata": {},
   "outputs": [
    {
     "name": "stdout",
     "output_type": "stream",
     "text": [
      "     Symbol                      Name       Sector\n",
      "3700   INSM  insmed inc. common stock  Health Care\n",
      "                                  sponsor_collaborators  company symbol\n",
      "5167  Insmed Incorporated|NHS Tayside|University of ...  Insmed    INSM\n",
      "     Symbol                          Name       Sector\n",
      "1618   CNTG  centogene n.v. common shares  Health Care\n",
      "    sponsor_collaborators     company symbol\n",
      "808  Centogene AG Rostock  Centogene    CNTG\n",
      "     Symbol                       Name             Sector\n",
      "1366   CERT  certara inc. common stock  Consumer Durables\n",
      "                                  sponsor_collaborators          company  \\\n",
      "3896  Certara|Bill and Melinda Gates Foundation|Parexel  Certara|Parexel   \n",
      "\n",
      "     symbol  \n",
      "3896   CERT  \n",
      "     Symbol                            Name   Sector\n",
      "3423   HOPE  hope bancorp inc. common stock  Finance\n",
      "     sponsor_collaborators               company symbol\n",
      "1734  Hope Pharmaceuticals  Hope Pharmaceuticals   HOPE\n",
      "     Symbol                             Name       Sector\n",
      "2326   ENTX  entera bio ltd. ordinary shares  Health Care\n",
      "                                  sponsor_collaborators company symbol\n",
      "4285  Entera Health, Inc|Lemus Buhils, SL|Clinical R...  Entera   ENTX\n",
      "     Symbol                                               Name       Sector\n",
      "1524   CLOV  clover health investments corp. class a common...  Health Care\n",
      "                                  sponsor_collaborators       company symbol\n",
      "1796              Clover Biopharmaceuticals AUS Pty Ltd  Clover  AUS    CLOV\n",
      "4230  Clover Biopharmaceuticals AUS Pty Ltd|Coalitio...  Clover  AUS    CLOV\n",
      "     Symbol                              Name       Sector\n",
      "3744    IQV  iqvia holdings inc. common stock  Health Care\n",
      "                                  sponsor_collaborators  \\\n",
      "1071                                      Iqvia Pty Ltd   \n",
      "3038                          Iqvia Pty Ltd|AstraZeneca   \n",
      "3259                  AstraZeneca|Iqvia Pty Ltd|Covance   \n",
      "3461                          Iqvia Pty Ltd|AstraZeneca   \n",
      "3994  Iqvia Pty Ltd|Indian Council of Medical Resear...   \n",
      "5236  Q2 Solutions|SYNLAB Analytics & Services Switz...   \n",
      "\n",
      "                                                company symbol  \n",
      "1071                                             Iqvia     IQV  \n",
      "3038                                 Iqvia |AstraZeneca    IQV  \n",
      "3259                         AstraZeneca|Iqvia |Covance    IQV  \n",
      "3461                                 Iqvia |AstraZeneca    IQV  \n",
      "3994                     Iqvia |Bharat Biotech  Limited    IQV  \n",
      "5236  Q2 Solutions|Datamap|Iqvia |Novartis Pharmaceu...    IQV  \n",
      "     Symbol                                     Name       Sector\n",
      "3162   GRFS  grifols s.a. american depositary shares  Health Care\n",
      "         sponsor_collaborators    company symbol\n",
      "2729  Grifols Therapeutics LLC  Grifols     GRFS\n",
      "3315  Grifols Therapeutics LLC  Grifols     GRFS\n",
      "     Symbol                                   Name             Sector\n",
      "2942     GE  general electric company common stock  Consumer Durables\n",
      "                                  sponsor_collaborators  \\\n",
      "4399  University of Minnesota|General Electric Resea...   \n",
      "\n",
      "                        company symbol  \n",
      "4399  General Electric Research     GE  \n",
      "    Symbol                                      Name       Sector\n",
      "557   ARPO  aerpio pharmaceuticals inc. common stock  Health Care\n",
      "                                  sponsor_collaborators  company symbol\n",
      "3003  Aerpio Therapeutics|Medical Technology Enterpr...  Aerpio    ARPO\n",
      "     Symbol                                               Name       Sector\n",
      "5479   PHAR  pharming group n.v. ads each representing 10 o...  Health Care\n",
      "                                  sponsor_collaborators    company symbol\n",
      "1966  University Hospital, Basel, Switzerland|Pharmi...  Pharming    PHAR\n",
      "3162                         Pharming Technologies B.V.  Pharming    PHAR\n",
      "     Symbol                                   Name Sector\n",
      "7215   VALN  valneva se american depositary shares    NaN\n",
      "                                  sponsor_collaborators   company symbol\n",
      "4227  Valneva Austria GmbH|National Institute for He...  Valneva    VALN\n",
      "     Symbol                       Name Sector\n",
      "3595   IFRX  inflarx n.v. common stock    NaN\n",
      "    sponsor_collaborators   company symbol\n",
      "322          InflaRx GmbH  InflaRx    IFRX\n",
      "     Symbol                                            Name         Sector\n",
      "4550    MKD  molecular data inc. american depositary shares  Miscellaneous\n",
      "                                  sponsor_collaborators  \\\n",
      "5236  Q2 Solutions|SYNLAB Analytics & Services Switz...   \n",
      "5282                              Molecular Partners AG   \n",
      "\n",
      "                                                company symbol  \n",
      "5236  Q2 Solutions|Datamap|Iqvia |Novartis Pharmaceu...    MKD  \n",
      "5282                                         Molecular     MKD  \n",
      "     Symbol                                               Name  \\\n",
      "5729   PTNR  partner communications company ltd. american d...   \n",
      "\n",
      "                Sector  \n",
      "5729  Public Utilities  \n",
      "                                  sponsor_collaborators   company symbol\n",
      "1916  Partner Therapeutics, Inc.|United States Depar...  Partner    PTNR\n",
      "4446  United States Department of Defense|Partner Th...  Partner    PTNR\n",
      "    Symbol                                          Name Sector\n",
      "984   BLDE  blade air mobility inc. class a common stock    NaN\n",
      "                      sponsor_collaborators                     company symbol\n",
      "343  Blade Therapeutics|Clinipace Worldwide  Blade |Clinipace Worldwide   BLDE\n",
      "     Symbol                                               Name   Sector\n",
      "3029   GLBL  cartesian growth corporation class a ordinary ...  Finance\n",
      "       sponsor_collaborators     company symbol\n",
      "3113  Cartesian Therapeutics  Cartesian    GLBL\n"
     ]
    }
   ],
   "source": [
    "# check extra symbols\n",
    "if (debug):\n",
    "    troublesymbols=set(xlist)-set(wlist)\n",
    "    for ticker in list(troublesymbols)[1:]:\n",
    "        print(ticker_all[ticker_all.Symbol==ticker])\n",
    "        print(df[['sponsor_collaborators', 'company','symbol']][df.symbol==ticker])        "
   ]
  },
  {
   "cell_type": "code",
   "execution_count": 301,
   "metadata": {},
   "outputs": [
    {
     "name": "stdout",
     "output_type": "stream",
     "text": [
      "final dataset after merge: (367, 70)\n",
      "total unique symbols: 152\n",
      "symbol list ['PLRX' 'PPD' 'NVS' 'BCRX' 'GILD' 'REGN' 'SNY' 'DGX' 'VNDA' 'ABBV' 'PFE'\n",
      " 'IFRX' 'CANF' 'BLDE' 'INO' 'CAPR' 'TRHC' 'CDNA' 'IMAB' 'LLY' 'EIGR' 'AZN'\n",
      " 'BHVN' 'BMY' 'KPTI' 'TBPH' 'HGEN' 'UNH' 'INCY' 'ALXN' 'BHC' 'CNTG' 'MRKR'\n",
      " 'BLPH' 'LBPS' 'MEDP' 'MESO' 'ATHX' 'IQV' 'BNTX' 'NVAX' 'IPHA' 'INMB'\n",
      " 'VSTM' 'JNJ' 'GSK' 'IMUX' 'AIM' 'ECOR' 'BGNE' 'IBRX' 'VERU' 'PSTI' 'WINT'\n",
      " 'CMRX' 'CTSO' 'EXAS' 'AVIR' 'XAIR' 'KNSA' 'ALVR' 'EDSA' 'HOPE' 'APLS'\n",
      " 'VTGN' 'CTIC' 'CLOV' 'PTNR' 'LIFE' 'KLDO' 'RDHL' 'PHAR' 'SNDX' 'TAK'\n",
      " 'DVA' 'MNOV' 'FGEN' 'PHAS' 'PTCT' 'SRNE' 'ALT' 'DRRX' 'CVAC' 'AMPE'\n",
      " 'ANGN' 'AMRN' 'CRVS' 'VAR' 'BMRA' 'HRTX' 'BPTS' 'GRFS' 'ARCT' 'EVLO'\n",
      " 'HAE' 'RETA' 'ADPT' 'VIR' 'MMM' 'ARPO' 'FULC' 'SNN' 'CLBS' 'GLBL' 'VRNA'\n",
      " 'RDY' 'JAZZ' 'SAGE' 'MREO' 'IONS' 'KMDA' 'OPK' 'GRTX' 'EW' 'ILMN' 'VXRT'\n",
      " 'DFFN' 'HRC' 'RIGL' 'NGM' 'AMGN' 'AEMD' 'CFRX' 'NRBO' 'EQ' 'CLNN' 'HUGE'\n",
      " 'CERT' 'ONCS' 'LGVN' 'NKTR' 'ICLR' 'PRTC' 'ABIO' 'ENLV' 'EBS' 'VALN'\n",
      " 'ENTX' 'TLC' 'GE' 'AUPH' 'LHDX' 'MDT' 'ADMP' 'VBLT' 'VBIV' 'GRTS' 'PRGO'\n",
      " 'HSTO' 'BDX' 'INSM' 'MKD']\n"
     ]
    }
   ],
   "source": [
    "# filter out companies have no symbol to keep only public traded companies\n",
    "df = df.dropna(subset=['symbol'])\n",
    "#df = df[(df['symbol'] !=\"\") & (df['symbol'] !=\"nan\")]\n",
    "if (debug):\n",
    "    print('final dataset after merge:',df.shape)\n",
    "    print('total unique symbols:', df.symbol.nunique())\n",
    "    print('symbol list', df.symbol.unique())"
   ]
  },
  {
   "cell_type": "code",
   "execution_count": 302,
   "metadata": {},
   "outputs": [],
   "source": [
    "df.to_csv('all-merged-data.csv')"
   ]
  },
  {
   "cell_type": "code",
   "execution_count": null,
   "metadata": {},
   "outputs": [],
   "source": []
  }
 ],
 "metadata": {
  "kernelspec": {
   "display_name": "Python 3",
   "language": "python",
   "name": "python3"
  },
  "language_info": {
   "codemirror_mode": {
    "name": "ipython",
    "version": 3
   },
   "file_extension": ".py",
   "mimetype": "text/x-python",
   "name": "python",
   "nbconvert_exporter": "python",
   "pygments_lexer": "ipython3",
   "version": "3.9.0"
  }
 },
 "nbformat": 4,
 "nbformat_minor": 4
}
