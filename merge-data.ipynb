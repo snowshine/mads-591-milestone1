{
 "cells": [
  {
   "cell_type": "markdown",
   "metadata": {},
   "source": [
    "## Merge Primary and Secondary Dataset"
   ]
  },
  {
   "cell_type": "code",
   "execution_count": 21,
   "metadata": {},
   "outputs": [],
   "source": [
    "import numpy as np\n",
    "import pandas as pd\n",
    "from datetime import datetime, timedelta\n",
    "import re"
   ]
  },
  {
   "cell_type": "code",
   "execution_count": 33,
   "metadata": {},
   "outputs": [],
   "source": [
    "# turn on debug mode when running by itself\n",
    "if not 'debug' in locals():\n",
    "    debug = True\n",
    "#debug=False"
   ]
  },
  {
   "cell_type": "code",
   "execution_count": 34,
   "metadata": {},
   "outputs": [],
   "source": [
    "# load primary dataset\n",
    "df_all=pd.read_csv('20210412020005_covid-19.tsv',sep='\\t')\n",
    "\n",
    "# filter clinical trial dataset to industry company \n",
    "# since industry company are the only possible public traded sponsors, rest are institutions\n",
    "df=df_all[df_all[\"funded_bys\"].str.find('Industry')>=0]\n"
   ]
  },
  {
   "cell_type": "code",
   "execution_count": 35,
   "metadata": {},
   "outputs": [],
   "source": [
    "# load secondary dataset\n",
    "# download from https://www.nasdaq.com/market-activity/stocks/screener\n",
    "#ticker_all=pd.read_csv('nasdaq_screener_healthcare.csv') # healthcare sector only\n",
    "ticker_all=pd.read_csv('nasdaq_stocks.csv')\n",
    "ticker_all=ticker_all[['Symbol','Name','Sector']][ticker_all.Sector != 'Technology']\n",
    "ticker_all['Name']=ticker_all['Name'].str.lower()"
   ]
  },
  {
   "cell_type": "code",
   "execution_count": 36,
   "metadata": {},
   "outputs": [],
   "source": [
    "if (debug):\n",
    "    print(\"origin clinical data shape: \", df_all.shape)\n",
    "    print(\"after filter to industry company data shape: \", df.shape)\n",
    "    print(\"ticker data shape: \", ticker_all.shape)"
   ]
  },
  {
   "cell_type": "code",
   "execution_count": 37,
   "metadata": {},
   "outputs": [],
   "source": [
    "# get industry participant and clean company name to keep key words in the name\n",
    "def getCompanyName(sponsor_collaborators, lead, collaborators):\n",
    "    \n",
    "    sponsors = sponsor_collaborators.split('|')\n",
    "    company = \"\"\n",
    "    for sponsor in sponsors: # can be more than 1 industry companies\n",
    "        if (lead.find(sponsor+\"[Industry]\")>=0):\n",
    "            company = company + \"|\" + sponsor\n",
    "        elif (collaborators != None) & (collaborators.find(sponsor+\"[Industry]\")>=0): #collaborators can be NaN\n",
    "            company = company + \"|\" + sponsor\n",
    "    \n",
    "    company = company.replace('Sanofi Pasteur, a Sanofi Company', 'Sanofi').replace('Aevi Genomic Medicine a Cerecor', 'Cerecor') \\\n",
    "                    .replace('Janssen Vaccines','Johnson & Johnson').replace('Janssen Research','Johnson & Johnson') \\\n",
    "                    .replace('Janssen Pharmaceutica','Johnson & Johnson').replace('Janssen Pharmaceutical','Johnson & Johnson') \\\n",
    "                    .replace('Amarin Pharma', 'Amarin').replace('Aytu BioScience','aytu biopharma').replace('Technologies B.V.','') \\\n",
    "                    .replace('Rostock','').replace('Bellerophon Pulse Technologies','bellerophon therapeutics') \\\n",
    "                    .replace(', Inc.','').replace(', Inc','').replace('. Inc.','').replace('Inc.,','').replace('Inc.','') \\\n",
    "                    .replace('Incorporated','').replace('Corporation','').replace('Corp','').replace('Company','').replace('company','')    \\\n",
    "                    .replace(\"Co., Ltd.\",\"\").replace(\"Co.,\", \"\").replace(\"Co.\", \"\").replace(\", S.A.\", \"\").replace('Partners','') \\\n",
    "                    .replace('Pty Ltd','').replace(\", Ltd.\",\"\").replace(\"Ltd.\", \"\").replace(', LLC','').replace('LLC','') \\\n",
    "                    .replace('Austria GmbH','').replace('RNA Pharmaceuticals GmbH','').replace('GmbH','').replace(\" AG\", \"\") \\\n",
    "                    .replace('North America','').replace('Americas','').replace('International','').replace('International Sàrl','') \\\n",
    "                    .replace('Biopharmaceuticals','').replace('Biopharma','').replace('BioScience','').replace('biotech','').replace('bio','') \\\n",
    "                    .replace('Therapeutics','').replace('healthcare','').replace('HealthCare','').replace(' Health Inc','').replace(' Health','') \\\n",
    "                    .replace('scientific','').replace('Clinical Research','').replace('Nanomedicine','').replace('Oncology','').replace('Pharma  ','') \\\n",
    "                    .replace(\",\", \"\")\n",
    "        \n",
    "    return company[1:]"
   ]
  },
  {
   "cell_type": "code",
   "execution_count": 38,
   "metadata": {},
   "outputs": [],
   "source": [
    "# getCompanyName testing\n",
    "if (debug):\n",
    "    s1='Han Xu, M.D., Ph.D., Sponsor-Investigator, IRB Chair|PPD'\n",
    "    s2='Han Xu, M.D., Ph.D., Sponsor-Investigator, IRB Chair[Industry]'\n",
    "    s3='PPD[Industry]'\n",
    "    # s1='Biohaven Pharmaceuticals, Inc.'\n",
    "    # s2='Biohaven Pharmaceuticals, Inc.[Industry]'\n",
    "    # s3=''\n",
    "    print(getCompanyName(s1, s2, s3))"
   ]
  },
  {
   "cell_type": "code",
   "execution_count": 39,
   "metadata": {},
   "outputs": [],
   "source": [
    "# find stock symbols\n",
    "# input: multiple company names, nasdaq all company symbol and names\n",
    "# output: matched symbol list\n",
    "def findSymbol(companies, tickers):\n",
    "    result=[]\n",
    "    for company in companies.split('|'): #can be more than 1\n",
    "        company = company.lower()\n",
    "        tmp = tickers[['Symbol']][tickers.Name.str.find(company)==0]\n",
    "        if len(tmp.Symbol) >= 1: # find the whole name      \n",
    "            result.append(tmp.Symbol.values[0])\n",
    "        else:  # didn't find with the whole name\n",
    "            words = company.split(' ')\n",
    "            if len(words) > 2: # if company name have more than 2 words, use 2 words\n",
    "                name = words[0] + ' ' + words[1]\n",
    "                tmp = tickers[['Symbol']][tickers.Name.str.find(name)==0]\n",
    "                if len(tmp.Symbol) >= 1:\n",
    "                    result.append(tmp.Symbol.values[0])\n",
    "            elif (len(words) == 2):\n",
    "                if (words[1]=='pharmaceuticals'): # if company name has 2 words like [**] pharmaceutical\n",
    "                    name = words[0] + ' pharmaceutical' # remove s from Pharmaceuticals for BHVN\n",
    "                    tmp = tickers[['Symbol']][tickers.Name.str.find(name)==0]\n",
    "                    if len(tmp.Symbol) >= 1:\n",
    "                        result.append(tmp.Symbol.values[0])\n",
    "                    else:  #if 2 words name not found, try to drop pharmaceutical\n",
    "                        name = words[0]  # use just the first word\n",
    "                        tmp = tickers[['Symbol']][tickers.Name.str.find(name)==0]\n",
    "                        if len(tmp.Symbol) >= 1:\n",
    "                            result.append(tmp.Symbol.values[0])\n",
    "    \n",
    "    return result"
   ]
  },
  {
   "cell_type": "code",
   "execution_count": 40,
   "metadata": {},
   "outputs": [],
   "source": [
    "# findSymbol testing\n",
    "if (debug):\n",
    "    s='IRB Chair|Adamis Pharmaceutical|CureVac'\n",
    "    print(findSymbol(s, ticker_all))    "
   ]
  },
  {
   "cell_type": "code",
   "execution_count": 41,
   "metadata": {},
   "outputs": [
    {
     "name": "stderr",
     "output_type": "stream",
     "text": [
      "<ipython-input-41-11ba52ca5917>:5: SettingWithCopyWarning: \n",
      "A value is trying to be set on a copy of a slice from a DataFrame.\n",
      "Try using .loc[row_indexer,col_indexer] = value instead\n",
      "\n",
      "See the caveats in the documentation: https://pandas.pydata.org/pandas-docs/stable/user_guide/indexing.html#returning-a-view-versus-a-copy\n",
      "  df['company']=df.apply(lambda x: getCompanyName(x.sponsor_collaborators, x.lead_sponsor, x.collaborators), axis=1)\n",
      "<ipython-input-41-11ba52ca5917>:8: SettingWithCopyWarning: \n",
      "A value is trying to be set on a copy of a slice from a DataFrame.\n",
      "Try using .loc[row_indexer,col_indexer] = value instead\n",
      "\n",
      "See the caveats in the documentation: https://pandas.pydata.org/pandas-docs/stable/user_guide/indexing.html#returning-a-view-versus-a-copy\n",
      "  df['symbol']=df.company.apply(lambda x: findSymbol(x, ticker_all))\n"
     ]
    }
   ],
   "source": [
    "#\n",
    "# merge 2 dataset based on company name\n",
    "#\n",
    "# industry company name can be either in lead_sponsor or collaborators\n",
    "df['company']=df.apply(lambda x: getCompanyName(x.sponsor_collaborators, x.lead_sponsor, x.collaborators), axis=1)\n",
    "\n",
    "# find stock symbol based on company name\n",
    "df['symbol']=df.company.apply(lambda x: findSymbol(x, ticker_all))\n",
    "\n",
    "# since trials can involve multiple public companies\n",
    "df=df.explode('symbol')\n"
   ]
  },
  {
   "cell_type": "code",
   "execution_count": 42,
   "metadata": {},
   "outputs": [],
   "source": [
    "# initial merge result check\n",
    "if (debug):\n",
    "    print('data shape after merge: ', df.shape)\n",
    "    # check empty company names\n",
    "    print('no company name data shape:',df[df['company']==''].shape)\n",
    "    print(df[['nct_id', 'lead_sponsor','collaborators', 'company']][df['company']==''].shape)\n",
    "    \n",
    "    # check the list of companies have no symbol\n",
    "    print('symbol not found data shape:',df[pd.isna(df.symbol)].shape)\n",
    "    print(df[['nct_id', 'lead_sponsor','company', 'symbol']][pd.isna(df.symbol)])\n"
   ]
  },
  {
   "cell_type": "code",
   "execution_count": 43,
   "metadata": {},
   "outputs": [],
   "source": [
    "# spot check companies have no symbol\n",
    "if (debug):\n",
    "    #print(df[['nct_id','sponsor_collaborators', 'lead_sponsor','collaborators','company', 'symbol']][df.company.str.find('Sanofi')==0])    \n",
    "    print(df[['nct_id', 'funded_bys', 'sponsor_collaborators', 'lead_sponsor','collaborators', 'company','symbol']][df.company.str.find('Amarin')>=0])\n",
    "    print(df[['nct_id', 'funded_bys', 'sponsor_collaborators', 'lead_sponsor','collaborators', 'company','symbol']][df.nct_id=='NCT04346615'])\n"
   ]
  },
  {
   "cell_type": "code",
   "execution_count": 44,
   "metadata": {},
   "outputs": [],
   "source": [
    "# double check: for company didn't find symbol, try again if any part of the name matched a public company name\n",
    "if (debug):\n",
    "    cnlist = df['company'][pd.isna(df.symbol)].unique().tolist()\n",
    "    exceptwordlist = ['a','ai','ab','d/b/a','co','de','et','e','s','sl','inc','sa', 'sas','ve','bio','la','lp','and','the','first','of', 'group', \\\n",
    "                  'm.d.','md','dr.','research','medical','life','world', 'human','tree','plant','nature','stock','therapeutic',\\\n",
    "                  'health','science','scientific','partner','center','stem','cell','biotech','biotec', \\\n",
    "                  'global','national','europe','british','canada','us','usa','india','pacific','federal','east','middle']\n",
    "    for c in cnlist:    \n",
    "        words = c.split(' ')\n",
    "        for aword in words:\n",
    "            aword = aword.lower()\n",
    "            if (len(aword)>0) & (aword not in exceptwordlist):\n",
    "                tmp = ticker_all[['Symbol', 'Name']][ticker_all.Name.str.find(aword)==0]\n",
    "                if len(tmp.Symbol) >= 1:\n",
    "                    print('COMPANY(', c, ') WITH NAME PART(', aword, ') MATCH TICKER(', tmp.Symbol.values[0] + ') NAMED-', tmp.Name.values[0])\n"
   ]
  },
  {
   "cell_type": "code",
   "execution_count": 45,
   "metadata": {},
   "outputs": [],
   "source": [
    "# compare our symbol lists\n",
    "if (debug):\n",
    "    print('total unique symbol:', df['symbol'].nunique(), df['symbol'].unique())\n",
    "    xlist=df['symbol'].unique()\n",
    "    #wlist=['PPD', 'SNY', 'CDNA', 'BLPH', 'PFE', 'GSK', 'BGNE', 'CMRX', 'FGEN', 'TAK', 'BMRA', 'AZN', 'VXRT', 'HRC', 'NVAX', 'AMGN', 'CFRX', 'EQ', 'ABBV', 'PRTC', 'HSTO', 'GILD', 'REGN', 'VNDA', 'LLY', 'BHVN', 'KPTI', 'TBPH', 'HGEN', 'ALXN', 'INCY', 'BHC', 'MRKR', 'LBPS', 'ATHX', 'BNTX', 'IBRX', 'VERU', 'WINT', 'EXAS', 'AVIR', 'XAIR', 'EDSA', 'APLS', 'VTGN', 'CTIC', 'LIFE', 'KLDO', 'SNDX', 'PHAS', 'PTCT', 'SRNE', 'ALT', 'KNSA', 'AMPE', 'CRVS', 'HRTX', 'BMY', 'ARCT', 'EVLO', 'ADPT', 'FULC', 'CLBS', 'VRNA', 'SAGE', 'VIR', 'KMDA', 'OPK', 'GRTX', 'PLRX', 'DFFN', 'NGM', 'AEMD', 'NRBO', 'HUGE', 'RIGL', 'INO', 'NKTR', 'ICLR', 'ENLV', 'TLC', 'LHDX', 'ADMP', 'VBLT', 'VBIV', 'BDX', 'RDY', 'JNJ']\n",
    "    #wlist=['PPD', 'SNY', 'CDNA', 'BLPH', 'PFE', 'GSK', 'BGNE', 'CMRX', 'MNOV', 'FGEN', 'DRRX', 'TAK', 'BMRA', 'AZN', 'VXRT', 'HRC', 'NVAX', 'AMGN', 'CFRX', 'EQ', 'ABBV', 'PRTC', 'HSTO', 'GILD', 'REGN', 'VNDA', 'LLY', 'BHVN', 'KPTI', 'TBPH', 'HGEN', 'ALXN', 'INCY', 'BHC', 'MRKR', 'LBPS', 'ATHX', 'BNTX', 'INMB', 'IBRX', 'VERU', 'WINT', 'EXAS', 'AVIR', 'XAIR', 'EDSA', 'APLS', 'VTGN', 'CTIC', 'LIFE', 'KLDO', 'RDHL', 'SNDX', 'PHAS', 'PTCT', 'SRNE', 'ALT', 'KNSA', 'AMPE', 'CRVS', 'HRTX', 'BMY', 'ARCT', 'EVLO', 'ADPT', 'FULC', 'CLBS', 'VRNA', 'SAGE', 'VIR', 'KMDA', 'OPK', 'GRTX', 'PLRX', 'DFFN', 'NGM', 'AEMD', 'NRBO', 'HUGE', 'RIGL', 'INO', 'NKTR', 'ICLR', 'ENLV', 'TLC', 'LHDX', 'ADMP', 'VBLT', 'VBIV', 'BDX', 'RDY', 'JNJ']\n",
    "    wlist = ['PPD', 'NVS', 'BCRX', 'GILD', 'REGN', 'SNY', 'DGX', 'VNDA', 'ABBV', 'PFE', 'CANF', 'INO', 'TRHC', 'CDNA', 'LLY', 'EIGR', 'AZN', 'BHVN', 'BMY', 'TBPH', 'HGEN', 'UNH', 'INCY', 'ALXN', 'MRKR', 'BLPH', 'LBPS', 'MEDP', 'ATHX', 'BNTX', 'NVAX', 'IPHA', 'INMB', 'MESO', 'VSTM', 'GSK', 'IMUX', 'AIM', 'ECOR', 'BGNE', 'IBRX', 'VERU', 'PSTI', 'WINT', 'CMRX', 'CTSO', 'EXAS', 'KNSA', 'ALVR', 'APLS', 'VTGN', 'CTIC', 'LIFE', 'KLDO', 'RDHL', 'SNDX', 'TAK', 'MNOV', 'FGEN', 'PHAS', 'PTCT', 'SRNE', 'ALT', 'DRRX', 'CVAC', 'AMPE', 'ANGN', 'CRVS', 'BMRA', 'BPTS', 'ARCT', 'HAE', 'RETA', 'ADPT', 'VIR', 'MMM', 'FULC', 'SNN', 'CLBS', 'VRNA', 'RDY', 'JAZZ', 'SAGE', 'MREO', 'IONS', 'KMDA', 'OPK', 'EW', 'ILMN', 'VXRT', 'DFFN', 'HRC', 'RIGL', 'NGM', 'AMGN', 'CFRX', 'NRBO', 'EQ', 'ONCS', 'NKTR', 'ICLR', 'ABIO', 'ENLV', 'EBS', 'TLC', 'LHDX', 'MDT', 'ADMP', 'VBLT', 'PRGO', 'BDX', 'AEMD', 'AMRN', 'AUPH', 'AVIR', 'BHC', 'CAPR', 'CLNN', 'DVA', 'EDSA', 'EVLO', 'GRTS', 'GRTX', 'HRTX', 'HSTO', 'HUGE', 'IMAB', 'JNJ', 'KPTI', 'LGVN', 'PLRX', 'PRTC', 'VAR', 'VBIV', 'XAIR']\n",
    "    print('x symbol#:',len(xlist), 'w symbol#:', len(wlist))\n",
    "    print('x missing:', set(wlist)-set(xlist))\n",
    "    print('w missing:', set(xlist)-set(wlist))"
   ]
  },
  {
   "cell_type": "code",
   "execution_count": 46,
   "metadata": {},
   "outputs": [],
   "source": [
    "# check missing symbols\n",
    "if (debug):\n",
    "    troublesymbols=set(wlist)-set(xlist)\n",
    "    for ticker in list(troublesymbols)[1:]:\n",
    "        print(ticker_all[ticker_all.Symbol==ticker])\n",
    "        #ToDo: find company name from the symbol\n",
    "        print(df[['lead_sponsor','collaborators', 'company','symbol']][df.company.str.find('Sanofi')==0])"
   ]
  },
  {
   "cell_type": "code",
   "execution_count": 47,
   "metadata": {},
   "outputs": [],
   "source": [
    "# check extra symbols\n",
    "if (debug):\n",
    "    troublesymbols=set(xlist)-set(wlist)\n",
    "    for ticker in list(troublesymbols)[1:]:\n",
    "        print(ticker_all[ticker_all.Symbol==ticker])\n",
    "        print(df[['sponsor_collaborators', 'company','symbol']][df.symbol==ticker])        "
   ]
  },
  {
   "cell_type": "code",
   "execution_count": 48,
   "metadata": {},
   "outputs": [],
   "source": [
    "# filter out companies have no symbol to keep only public traded companies\n",
    "df = df.dropna(subset=['symbol'])\n",
    "\n",
    "# convert all the date to datetime\n",
    "df['start_date']=pd.to_datetime(df['start_date'])\n",
    "df['first_posted']=pd.to_datetime(df['first_posted'])\n",
    "df['primary_completion_date']=pd.to_datetime(df['primary_completion_date'])\n",
    "df['completion_date']=pd.to_datetime(df['completion_date'])\n",
    "df['first_posted']=pd.to_datetime(df['first_posted'])\n",
    "df['results_first_posted']=pd.to_datetime(df['results_first_posted'])\n",
    "df['last_update_posted']=pd.to_datetime(df['last_update_posted'])\n",
    "\n",
    "#df = df[(df['symbol'] !=\"\") & (df['symbol'] !=\"nan\")]\n",
    "if (debug):\n",
    "    print('final dataset after merge:',df.shape)\n",
    "    print('total unique symbols:', df.symbol.nunique())\n",
    "    print('symbol list', df.symbol.unique())"
   ]
  },
  {
   "cell_type": "code",
   "execution_count": 49,
   "metadata": {},
   "outputs": [],
   "source": [
    "df.to_csv('all-merged-data.csv')"
   ]
  },
  {
   "cell_type": "code",
   "execution_count": null,
   "metadata": {},
   "outputs": [],
   "source": []
  }
 ],
 "metadata": {
  "kernelspec": {
   "display_name": "Python 3",
   "language": "python",
   "name": "python3"
  },
  "language_info": {
   "codemirror_mode": {
    "name": "ipython",
    "version": 3
   },
   "file_extension": ".py",
   "mimetype": "text/x-python",
   "name": "python",
   "nbconvert_exporter": "python",
   "pygments_lexer": "ipython3",
   "version": "3.9.0"
  }
 },
 "nbformat": 4,
 "nbformat_minor": 4
}
