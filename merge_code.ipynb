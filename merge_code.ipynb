{
 "cells": [
  {
   "cell_type": "code",
   "execution_count": 2,
   "metadata": {},
   "outputs": [
    {
     "name": "stderr",
     "output_type": "stream",
     "text": [
      "<ipython-input-2-8b6b248af5bf>:13: FutureWarning: Passing a negative integer is deprecated in version 1.0 and will not be supported in future version. Instead, use None to not limit the column width.\n",
      "  pd.set_option('display.max_colwidth', -1)\n"
     ]
    }
   ],
   "source": [
    "import pandas as pd\n",
    "import numpy as np\n",
    "import matplotlib.pyplot as plt\n",
    "import seaborn as sns\n",
    "\n",
    "import yfinance as yf\n",
    "import pandas_datareader as pdr\n",
    "from pandas.tseries.offsets import DateOffset\n",
    "\n",
    "import re\n",
    "\n",
    "pd.options.display.max_rows\n",
    "pd.set_option('display.max_colwidth', -1)"
   ]
  },
  {
   "cell_type": "markdown",
   "metadata": {},
   "source": [
    "## Clinical Trial Dataset: "
   ]
  },
  {
   "cell_type": "code",
   "execution_count": 3,
   "metadata": {},
   "outputs": [
    {
     "name": "stderr",
     "output_type": "stream",
     "text": [
      "<ipython-input-3-89f323f3a316>:19: FutureWarning: The default value of regex will change from True to False in a future version. In addition, single character regular expressions will*not* be treated as literal strings when regex=True.\n",
      "  industry_covid['filter_name']=industry_covid['filter_name'].str.replace('.', '').str.replace(' inc', '',)\n",
      "<ipython-input-3-89f323f3a316>:22: FutureWarning: The default value of regex will change from True to False in a future version.\n",
      "  industry_covid['filter_name']=industry_covid['filter_name'].str.replace(' corporation', '').str.replace(' corp', '').str.replace(' co\\.', '')\n"
     ]
    }
   ],
   "source": [
    "#get the Clinical Trial for COVID Data\n",
    "covid = pd.read_csv(\"20210412020005_covid-19.tsv\" ,sep='\\t')\n",
    "\n",
    "industry=covid[covid['funded_bys'].str.find('Industry')>-1]\n",
    "\n",
    "industry_covid=pd.melt(industry, id_vars=['nct_id', 'other_ids', 'status','why_stopped', 'funded_bys', 'sponsor_collaborators','study_type', 'phases', 'conditions', 'keywords',\n",
    "       'interventions', 'intervention_details', 'arm_details', 'outcome_measures', 'start_date','primary_completion_date', 'completion_date', 'first_posted',\n",
    "       'results_first_posted', 'last_update_posted', 'nlm_download_date','study_first_submitted_date', 'has_expanded_access',\n",
    "       'is_fda_regulated_drug', 'is_fda_regulated_device','is_unapproved_device', 'locations', 'number_of_facilities',\n",
    "       'has_us_facility', 'has_single_facility'], value_vars=['lead_sponsor', 'collaborators'], value_name='company')\n",
    "#seperate them \n",
    "industry_covid['explode']=industry_covid.company.str.replace(',', '').str.split('|')\n",
    "#filter out the industry\n",
    "industry_covid=industry_covid.explode(column='explode')\n",
    "industry_covid=industry_covid[industry_covid['explode'].str.find('Industry')>-1]\n",
    "industry_covid['industry_name']=industry_covid['explode'].str.extract(r'(.*)\\[Industry\\]')\n",
    "\n",
    "industry_covid['filter_name']=industry_covid['industry_name'].str.lower().str.replace(' ag', '')\n",
    "industry_covid['filter_name']=industry_covid['filter_name'].str.replace('.', '').str.replace(' inc', '',)\n",
    "industry_covid['filter_name']=industry_covid['filter_name'].str.replace(' holdings', '')\n",
    "industry_covid['filter_name']=industry_covid['filter_name'].str.replace(' llc', '')\n",
    "industry_covid['filter_name']=industry_covid['filter_name'].str.replace(' corporation', '').str.replace(' corp', '').str.replace(' co\\.', '')\n",
    "industry_covid['filter_name']=industry_covid['filter_name'].str.replace(' se', '').str.replace(' ltd', '')\n",
    "\n",
    "industry_covid=industry_covid.reset_index()\n",
    "industry_covid['merge_name']=industry_covid['filter_name'].astype(str).str.extract(r'(^[\\d\\w\\-\\&\\.]* ?[\\w\\-\\&]{1,4})')"
   ]
  },
  {
   "cell_type": "markdown",
   "metadata": {},
   "source": [
    "## Nasdaq Dataset:"
   ]
  },
  {
   "cell_type": "code",
   "execution_count": 4,
   "metadata": {
    "scrolled": true
   },
   "outputs": [
    {
     "name": "stderr",
     "output_type": "stream",
     "text": [
      "<ipython-input-4-d921044456b6>:14: FutureWarning: The default value of regex will change from True to False in a future version.\n",
      "  health_stocks['merge_name']=health_stocks['merge_name'].str.replace(' inc.', '')\\\n",
      "<ipython-input-4-d921044456b6>:14: FutureWarning: The default value of regex will change from True to False in a future version. In addition, single character regular expressions will*not* be treated as literal strings when regex=True.\n",
      "  health_stocks['merge_name']=health_stocks['merge_name'].str.replace(' inc.', '')\\\n"
     ]
    }
   ],
   "source": [
    "#get the data\n",
    "nasdaq=pd.read_csv('nasdaq_stocks.csv')\n",
    "\n",
    "sectors=['Health Care']\n",
    "health_stocks=nasdaq[nasdaq.Sector.isin(sectors)]\n",
    "\n",
    "#remove any stocks that has no market cap\n",
    "health_stocks=health_stocks[health_stocks['Market Cap']>1]\n",
    "\n",
    "#get stock name of the company ( first word and two letter of the second word)\n",
    "\n",
    "health_stocks['merge_name']=health_stocks['Name'].str.lower().str.replace(' american depositary shares', '')\n",
    "health_stocks['merge_name']=health_stocks['merge_name'].str.replace('common stock', '')\n",
    "health_stocks['merge_name']=health_stocks['merge_name'].str.replace(' inc.', '')\\\n",
    "                                    .str.replace('corporation', '').str.replace('corp', '').str.replace('se ', '').str.replace('.', '')\n",
    "health_stocks['merge_name']=health_stocks.merge_name.str.extract(r'(^[\\w\\-\\&\\.]* ?[\\w\\-\\&]{1,4})')\n",
    "\n",
    "health_stocks.rename(columns={'Name':'Stock_Name', 'Symbol':'Stock_Symbol'}, inplace=True)\n",
    "health_stocks=health_stocks.reset_index()\n",
    "\n",
    "#count words that were extracted\n",
    "industry_covid['merge_name']=industry_covid['merge_name'].str.rstrip(' ')\n",
    "industry_covid['number_words']=industry_covid['merge_name'].str.count(' ')+1\n",
    "\n",
    "health_stocks['merge_name']=health_stocks['merge_name'].str.rstrip(' ')\n",
    "health_stocks['number_words']=health_stocks['merge_name'].str.count(' ')+1\n",
    "\n",
    "#break up df with the number of words\n",
    "industry_1=industry_covid[industry_covid['number_words']==1]\n",
    "industry_2=industry_covid[industry_covid['number_words']==2]\n",
    "\n",
    "stocks_1=health_stocks[health_stocks['number_words']==1]\n",
    "stocks_2=health_stocks[health_stocks['number_words']==2]"
   ]
  },
  {
   "cell_type": "markdown",
   "metadata": {},
   "source": [
    "## Merging Clinical Trials and Nasdaq Datasets: "
   ]
  },
  {
   "cell_type": "markdown",
   "metadata": {},
   "source": [
    "### Merge: Step1 and Step 2"
   ]
  },
  {
   "cell_type": "code",
   "execution_count": 5,
   "metadata": {},
   "outputs": [],
   "source": [
    "#Merge the names of the stocks and clinical trials using two words\n",
    "outer2_2=industry_2.merge(stocks_2, on='merge_name', how='outer')\n",
    "inner2_2=industry_2.merge(stocks_2, on='merge_name', how='inner')\n",
    "\n",
    "#Merge the names of the stocks and clinical trials using one words\n",
    "outer1_1=industry_1.merge(stocks_1, on='merge_name', how='outer')\n",
    "inner1_1=industry_1.merge(stocks_1, on='merge_name', how='inner')"
   ]
  },
  {
   "cell_type": "markdown",
   "metadata": {},
   "source": [
    "### Merge: Step3 and Step 4"
   ]
  },
  {
   "cell_type": "code",
   "execution_count": 6,
   "metadata": {},
   "outputs": [],
   "source": [
    "col_industry=['nct_id', 'other_ids', 'status', 'why_stopped', 'funded_bys',\n",
    "       'sponsor_collaborators','study_type',\n",
    "       'phases', 'conditions', 'keywords', 'interventions',\n",
    "       'intervention_details', 'arm_details', 'outcome_measures', 'start_date',\n",
    "       'primary_completion_date', 'completion_date', 'first_posted',\n",
    "       'results_first_posted', 'last_update_posted', 'nlm_download_date',\n",
    "       'study_first_submitted_date', 'has_expanded_access',\n",
    "       'is_fda_regulated_drug', 'is_fda_regulated_device',\n",
    "       'is_unapproved_device', 'locations', 'number_of_facilities',\n",
    "       'has_us_facility', 'has_single_facility', 'company', 'explode', 'merge_name']\n",
    "col_stocks=['merge_name','Stock_Symbol', 'Stock_Name', 'Last Sale',\n",
    "       'Net Change', '% Change', 'Market Cap', 'Country', 'IPO Year', 'Volume',\n",
    "       'Sector', 'Industry']\n",
    "\n",
    "\n",
    "#industries witout corresponding stocks\n",
    "industry_2_wo_stocks=outer2_2[outer2_2.Stock_Symbol.isna()][col_industry]\n",
    "industry_1_wo_stock=outer1_1[outer1_1['Stock_Name'].isna()][col_industry]\n",
    "\n",
    "#stocks without corresponding industries\n",
    "stocks_2_wo_industry=outer2_2[outer2_2.company.isna()][col_stocks]\n",
    "stocks_1_wo_industry=outer1_1[outer1_1['company'].isna()][col_stocks]\n",
    "\n",
    "#Extracting one-word names from the unmerged two word name companies. \n",
    "stocks_2_wo_industry['word']=stocks_2_wo_industry.merge_name.str.extract(r'(^[\\w\\-\\&]*)\\s')\n",
    "industry_2_wo_stocks['word']=industry_2_wo_stocks.merge_name.str.extract(r'(^[\\w\\-\\&]*)\\s')\n",
    "\n",
    "#Prepare columns for merge\n",
    "industry_1_wo_stock['word']=industry_1_wo_stock['merge_name']\n",
    "stocks_1_wo_industry['word']=stocks_1_wo_industry['merge_name']\n",
    "\n",
    "#Actual Step3 and Step 4 merge\n",
    "industry1_stocks_2=industry_1_wo_stock.merge(stocks_2_wo_industry, on='word', how='inner')\n",
    "industry2_stocks1=industry_2_wo_stocks.merge(stocks_1_wo_industry, on='word', how='inner')\n",
    "industry2_stocks1=industry2_stocks1[industry2_stocks1.Stock_Symbol!='NATR']"
   ]
  },
  {
   "cell_type": "markdown",
   "metadata": {},
   "source": [
    "### Merge: Step5"
   ]
  },
  {
   "cell_type": "code",
   "execution_count": 7,
   "metadata": {},
   "outputs": [
    {
     "name": "stderr",
     "output_type": "stream",
     "text": [
      "<ipython-input-7-18fead4ef2c4>:4: SettingWithCopyWarning: \n",
      "A value is trying to be set on a copy of a slice from a DataFrame.\n",
      "Try using .loc[row_indexer,col_indexer] = value instead\n",
      "\n",
      "See the caveats in the documentation: https://pandas.pydata.org/pandas-docs/stable/user_guide/indexing.html#returning-a-view-versus-a-copy\n",
      "  johnson_and_johnson['merge_name']=johnson_and_johnson['merge_name'].str.extract(r'(^\\w*)\\s')\n"
     ]
    }
   ],
   "source": [
    "#Need to add in Johnson & Jonhson, it's under the name Janssen\n",
    "#use one word to merge Jassen to Johnson Johnson\n",
    "johnson_and_johnson=industry_2[industry_2.merge_name.str.find('janssen')>-1]\n",
    "johnson_and_johnson['merge_name']=johnson_and_johnson['merge_name'].str.extract(r'(^\\w*)\\s')\n",
    "johnson_and_johnson[col_industry]\n",
    "johnson_and_johnson=johnson_and_johnson.reset_index()\n",
    "\n",
    "jnj_stock=health_stocks[health_stocks.Stock_Symbol=='JNJ']\n",
    "jnj_df=jnj_stock.append(jnj_stock).append(jnj_stock).append(jnj_stock).append(jnj_stock).append(jnj_stock).append(jnj_stock).append(jnj_stock).append(jnj_stock).append(jnj_stock).append(jnj_stock)\n",
    "jnj_df=jnj_df[['Stock_Symbol', 'Stock_Name', 'Last Sale', 'Net Change',\n",
    "       '% Change', 'Market Cap', 'Country', 'IPO Year', 'Volume', 'Sector',\n",
    "       'Industry', 'merge_name',]]\n",
    "\n",
    "jnj_df=jnj_df.reset_index()\n",
    "johnson_df=johnson_and_johnson.merge(jnj_df, left_index=True, right_index=True, how='outer')"
   ]
  },
  {
   "cell_type": "markdown",
   "metadata": {},
   "source": [
    "### Merging all the Five of the Dataframes together"
   ]
  },
  {
   "cell_type": "code",
   "execution_count": 8,
   "metadata": {},
   "outputs": [],
   "source": [
    "#Ensure all the columns match before stacking them \n",
    "\n",
    "col_final_merge=['nct_id', 'other_ids', 'status', 'why_stopped', 'funded_bys','study_type',\n",
    "       'phases', 'conditions', 'keywords', 'interventions',\n",
    "       'intervention_details', 'arm_details', 'outcome_measures', 'start_date',\n",
    "       'primary_completion_date', 'completion_date', 'first_posted',\n",
    "       'results_first_posted', 'last_update_posted', 'nlm_download_date',\n",
    "       'study_first_submitted_date', 'has_expanded_access',\n",
    "       'is_fda_regulated_drug', 'is_fda_regulated_device',\n",
    "       'is_unapproved_device', 'locations', 'number_of_facilities',\n",
    "       'has_us_facility', 'has_single_facility', 'explode', 'merge_name', 'Stock_Symbol', 'Stock_Name', 'Last Sale',\n",
    "       'Net Change', '% Change', 'Market Cap', 'Country', 'IPO Year', 'Volume',\n",
    "       'Sector', 'Industry']\n",
    "\n",
    "industry1_stocks_2.rename(columns={'merge_name_x':'merge_name'}, inplace=True)\n",
    "industry2_stocks1.rename(columns={'merge_name_x':'merge_name'}, inplace=True)\n",
    "\n",
    "industry1_stocks_2=industry1_stocks_2[col_final_merge]\n",
    "industry2_stocks1=industry2_stocks1[col_final_merge]\n",
    "\n",
    "inner2_2=inner2_2[col_final_merge]\n",
    "inner1_1=inner1_1[col_final_merge]\n",
    "\n",
    "clinicalstocks=pd.concat([industry1_stocks_2, inner2_2, inner1_1, industry2_stocks1,johnson_df])\n",
    "\n",
    "#converting all the date strings to datatime\n",
    "clinicalstocks['start_date']=pd.to_datetime(clinicalstocks['start_date'])\n",
    "clinicalstocks['primary_completion_date']=pd.to_datetime(clinicalstocks['primary_completion_date'])\n",
    "clinicalstocks['completion_date']=pd.to_datetime(clinicalstocks['completion_date'])\n",
    "clinicalstocks['first_posted']=pd.to_datetime(clinicalstocks['first_posted'])\n",
    "clinicalstocks['results_first_posted']=pd.to_datetime(clinicalstocks['results_first_posted'])"
   ]
  },
  {
   "cell_type": "code",
   "execution_count": 9,
   "metadata": {},
   "outputs": [],
   "source": [
    "df=clinicalstocks"
   ]
  },
  {
   "cell_type": "code",
   "execution_count": 14,
   "metadata": {},
   "outputs": [],
   "source": [
    "df['symbol']=df['Stock_Symbol']"
   ]
  },
  {
   "cell_type": "code",
   "execution_count": null,
   "metadata": {},
   "outputs": [],
   "source": []
  }
 ],
 "metadata": {
  "kernelspec": {
   "display_name": "Python 3",
   "language": "python",
   "name": "python3"
  },
  "language_info": {
   "codemirror_mode": {
    "name": "ipython",
    "version": 3
   },
   "file_extension": ".py",
   "mimetype": "text/x-python",
   "name": "python",
   "nbconvert_exporter": "python",
   "pygments_lexer": "ipython3",
   "version": "3.9.0"
  }
 },
 "nbformat": 4,
 "nbformat_minor": 4
}
